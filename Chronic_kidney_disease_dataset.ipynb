{
 "cells": [
  {
   "cell_type": "markdown",
   "metadata": {},
   "source": [
    "## Chronic kidney disease dataset\n",
    "This project seeks to analyze the chronic kideny disease data set and come up with insights such as:\n",
    ". as to whether attributes such as:\n",
    "    1. hypertension\n",
    "    2. cornorary artery disease\n",
    "    3. diabetes mellitus\n",
    "    4. anemia\n",
    "    5. blood count\n",
    "    6. minerals\n",
    "have a strong correlation to chronic kidney disease\n",
    ". as to whether the following algorithms:\n",
    "    1. KNN\n",
    "    2. Decision tree(J48)\n",
    "    3. Neural network(MLP)\n",
    "    perform better or worse after conversion of some of the numeric attributes to nominal"
   ]
  },
  {
   "cell_type": "markdown",
   "metadata": {},
   "source": [
    "## Steps to complete assignment\n",
    "1. Envision the end-to-end scikit-learn workflow\n",
    "2. Get the chronic kidney dataset ready\n",
    "3. Experiment on the data using the three algorithms\n",
    "4. Fit the algorithms and use them to make predictions on the data\n",
    "5. Evaluate the models/algorithms\n",
    "6. Save the models and load pretrained models"
   ]
  },
  {
   "cell_type": "markdown",
   "metadata": {},
   "source": [
    "## 2. Getting the dataset ready\n",
    "Three main things we have to do\n",
    "1. Split the data into features and labels (usually `X` and `y`)\n",
    "2. Filling/imputing missing values or disregard them entirely\n",
    "3. Feature encoding (converting nominal features into numeric features)\n"
   ]
  },
  {
   "cell_type": "code",
   "execution_count": 1,
   "metadata": {},
   "outputs": [
    {
     "data": {
      "text/html": [
       "<div>\n",
       "<style scoped>\n",
       "    .dataframe tbody tr th:only-of-type {\n",
       "        vertical-align: middle;\n",
       "    }\n",
       "\n",
       "    .dataframe tbody tr th {\n",
       "        vertical-align: top;\n",
       "    }\n",
       "\n",
       "    .dataframe thead th {\n",
       "        text-align: right;\n",
       "    }\n",
       "</style>\n",
       "<table border=\"1\" class=\"dataframe\">\n",
       "  <thead>\n",
       "    <tr style=\"text-align: right;\">\n",
       "      <th></th>\n",
       "      <th>age</th>\n",
       "      <th>bp</th>\n",
       "      <th>sg</th>\n",
       "      <th>al</th>\n",
       "      <th>su</th>\n",
       "      <th>rbc</th>\n",
       "      <th>pc</th>\n",
       "      <th>pcc</th>\n",
       "      <th>ba</th>\n",
       "      <th>bgr</th>\n",
       "      <th>...</th>\n",
       "      <th>pcv</th>\n",
       "      <th>wbcc</th>\n",
       "      <th>rbcc</th>\n",
       "      <th>htn</th>\n",
       "      <th>dm</th>\n",
       "      <th>cad</th>\n",
       "      <th>appet</th>\n",
       "      <th>pe</th>\n",
       "      <th>ane</th>\n",
       "      <th>classification</th>\n",
       "    </tr>\n",
       "  </thead>\n",
       "  <tbody>\n",
       "    <tr>\n",
       "      <th>0</th>\n",
       "      <td>@relation Chronic_Kidney_Disease</td>\n",
       "      <td>NaN</td>\n",
       "      <td>NaN</td>\n",
       "      <td>NaN</td>\n",
       "      <td>NaN</td>\n",
       "      <td>NaN</td>\n",
       "      <td>NaN</td>\n",
       "      <td>NaN</td>\n",
       "      <td>NaN</td>\n",
       "      <td>NaN</td>\n",
       "      <td>...</td>\n",
       "      <td>NaN</td>\n",
       "      <td>NaN</td>\n",
       "      <td>NaN</td>\n",
       "      <td>NaN</td>\n",
       "      <td>NaN</td>\n",
       "      <td>NaN</td>\n",
       "      <td>NaN</td>\n",
       "      <td>NaN</td>\n",
       "      <td>NaN</td>\n",
       "      <td>NaN</td>\n",
       "    </tr>\n",
       "    <tr>\n",
       "      <th>1</th>\n",
       "      <td>@attribute 'age' numeric</td>\n",
       "      <td>NaN</td>\n",
       "      <td>NaN</td>\n",
       "      <td>NaN</td>\n",
       "      <td>NaN</td>\n",
       "      <td>NaN</td>\n",
       "      <td>NaN</td>\n",
       "      <td>NaN</td>\n",
       "      <td>NaN</td>\n",
       "      <td>NaN</td>\n",
       "      <td>...</td>\n",
       "      <td>NaN</td>\n",
       "      <td>NaN</td>\n",
       "      <td>NaN</td>\n",
       "      <td>NaN</td>\n",
       "      <td>NaN</td>\n",
       "      <td>NaN</td>\n",
       "      <td>NaN</td>\n",
       "      <td>NaN</td>\n",
       "      <td>NaN</td>\n",
       "      <td>NaN</td>\n",
       "    </tr>\n",
       "    <tr>\n",
       "      <th>2</th>\n",
       "      <td>@attribute 'bp'  numeric</td>\n",
       "      <td>NaN</td>\n",
       "      <td>NaN</td>\n",
       "      <td>NaN</td>\n",
       "      <td>NaN</td>\n",
       "      <td>NaN</td>\n",
       "      <td>NaN</td>\n",
       "      <td>NaN</td>\n",
       "      <td>NaN</td>\n",
       "      <td>NaN</td>\n",
       "      <td>...</td>\n",
       "      <td>NaN</td>\n",
       "      <td>NaN</td>\n",
       "      <td>NaN</td>\n",
       "      <td>NaN</td>\n",
       "      <td>NaN</td>\n",
       "      <td>NaN</td>\n",
       "      <td>NaN</td>\n",
       "      <td>NaN</td>\n",
       "      <td>NaN</td>\n",
       "      <td>NaN</td>\n",
       "    </tr>\n",
       "    <tr>\n",
       "      <th>3</th>\n",
       "      <td>@attribute 'sg' {1.005</td>\n",
       "      <td>1.010</td>\n",
       "      <td>1.015</td>\n",
       "      <td>1.020</td>\n",
       "      <td>1.025}</td>\n",
       "      <td>NaN</td>\n",
       "      <td>NaN</td>\n",
       "      <td>NaN</td>\n",
       "      <td>NaN</td>\n",
       "      <td>NaN</td>\n",
       "      <td>...</td>\n",
       "      <td>NaN</td>\n",
       "      <td>NaN</td>\n",
       "      <td>NaN</td>\n",
       "      <td>NaN</td>\n",
       "      <td>NaN</td>\n",
       "      <td>NaN</td>\n",
       "      <td>NaN</td>\n",
       "      <td>NaN</td>\n",
       "      <td>NaN</td>\n",
       "      <td>NaN</td>\n",
       "    </tr>\n",
       "    <tr>\n",
       "      <th>4</th>\n",
       "      <td>@attribute 'al' {0</td>\n",
       "      <td>1</td>\n",
       "      <td>2</td>\n",
       "      <td>3</td>\n",
       "      <td>4</td>\n",
       "      <td>5}</td>\n",
       "      <td>NaN</td>\n",
       "      <td>NaN</td>\n",
       "      <td>NaN</td>\n",
       "      <td>NaN</td>\n",
       "      <td>...</td>\n",
       "      <td>NaN</td>\n",
       "      <td>NaN</td>\n",
       "      <td>NaN</td>\n",
       "      <td>NaN</td>\n",
       "      <td>NaN</td>\n",
       "      <td>NaN</td>\n",
       "      <td>NaN</td>\n",
       "      <td>NaN</td>\n",
       "      <td>NaN</td>\n",
       "      <td>NaN</td>\n",
       "    </tr>\n",
       "  </tbody>\n",
       "</table>\n",
       "<p>5 rows × 25 columns</p>\n",
       "</div>"
      ],
      "text/plain": [
       "                                age     bp     sg     al      su   rbc   pc  \\\n",
       "0  @relation Chronic_Kidney_Disease    NaN    NaN    NaN     NaN   NaN  NaN   \n",
       "1          @attribute 'age' numeric    NaN    NaN    NaN     NaN   NaN  NaN   \n",
       "2          @attribute 'bp'  numeric    NaN    NaN    NaN     NaN   NaN  NaN   \n",
       "3            @attribute 'sg' {1.005  1.010  1.015  1.020  1.025}   NaN  NaN   \n",
       "4                @attribute 'al' {0      1      2      3       4  5}    NaN   \n",
       "\n",
       "   pcc   ba  bgr  ...  pcv wbcc rbcc  htn   dm  cad appet   pe  ane  \\\n",
       "0  NaN  NaN  NaN  ...  NaN  NaN  NaN  NaN  NaN  NaN   NaN  NaN  NaN   \n",
       "1  NaN  NaN  NaN  ...  NaN  NaN  NaN  NaN  NaN  NaN   NaN  NaN  NaN   \n",
       "2  NaN  NaN  NaN  ...  NaN  NaN  NaN  NaN  NaN  NaN   NaN  NaN  NaN   \n",
       "3  NaN  NaN  NaN  ...  NaN  NaN  NaN  NaN  NaN  NaN   NaN  NaN  NaN   \n",
       "4  NaN  NaN  NaN  ...  NaN  NaN  NaN  NaN  NaN  NaN   NaN  NaN  NaN   \n",
       "\n",
       "  classification  \n",
       "0            NaN  \n",
       "1            NaN  \n",
       "2            NaN  \n",
       "3            NaN  \n",
       "4            NaN  \n",
       "\n",
       "[5 rows x 25 columns]"
      ]
     },
     "execution_count": 1,
     "metadata": {},
     "output_type": "execute_result"
    }
   ],
   "source": [
    "# create the dataframe\n",
    "import pandas as pd\n",
    "import numpy as np\n",
    "from sklearn.metrics import mean_absolute_error\n",
    "from sklearn.preprocessing import LabelEncoder\n",
    "from scipy.io import arff\n",
    "\n",
    "#rurn off warnings\n",
    "import warnings\n",
    "warnings.filterwarnings(\"default\")\n",
    "\n",
    "# create header for dataset\n",
    "header = ['age','bp','sg','al','su','rbc','pc','pcc',\n",
    "    'ba','bgr','bu','sc','sod','pot','hemo','pcv',\n",
    "    'wbcc','rbcc','htn','dm','cad','appet','pe','ane',\n",
    "    'classification']\n",
    "\n",
    "# kidney_disease = pd.io.parsers.read_csv(\"data/csv_result-chronic_kidney_disease_full.csv\", error_bad_lines=False)\n",
    "df = pd.read_csv(\"data/chronic_kidney_disease.arff\",\n",
    "        header=None,\n",
    "        names=header\n",
    "       )\n",
    "kidney_disease=df\n",
    "df.head()\n",
    "\n"
   ]
  },
  {
   "cell_type": "markdown",
   "metadata": {},
   "source": [
    "## Check for missing values\n",
    "There are some missing values. We could take several approaches to missing values:\n",
    "1. Fill them with some value(imputation)\n",
    "2. Removing the samples with missing values altogether"
   ]
  },
  {
   "cell_type": "code",
   "execution_count": 2,
   "metadata": {},
   "outputs": [
    {
     "data": {
      "text/plain": [
       "age                0\n",
       "bp                13\n",
       "sg                24\n",
       "al                24\n",
       "su                24\n",
       "rbc               25\n",
       "pc                27\n",
       "pcc               27\n",
       "ba                27\n",
       "bgr               27\n",
       "bu                27\n",
       "sc                27\n",
       "sod               27\n",
       "pot               27\n",
       "hemo              27\n",
       "pcv               27\n",
       "wbcc              27\n",
       "rbcc              27\n",
       "htn               27\n",
       "dm                28\n",
       "cad               27\n",
       "appet             27\n",
       "pe                27\n",
       "ane               27\n",
       "classification    27\n",
       "dtype: int64"
      ]
     },
     "execution_count": 2,
     "metadata": {},
     "output_type": "execute_result"
    }
   ],
   "source": [
    "#Check for missing values\n",
    "df.isna().sum()"
   ]
  },
  {
   "cell_type": "code",
   "execution_count": 3,
   "metadata": {},
   "outputs": [
    {
     "data": {
      "text/html": [
       "<div>\n",
       "<style scoped>\n",
       "    .dataframe tbody tr th:only-of-type {\n",
       "        vertical-align: middle;\n",
       "    }\n",
       "\n",
       "    .dataframe tbody tr th {\n",
       "        vertical-align: top;\n",
       "    }\n",
       "\n",
       "    .dataframe thead th {\n",
       "        text-align: right;\n",
       "    }\n",
       "</style>\n",
       "<table border=\"1\" class=\"dataframe\">\n",
       "  <thead>\n",
       "    <tr style=\"text-align: right;\">\n",
       "      <th></th>\n",
       "      <th>age</th>\n",
       "      <th>bp</th>\n",
       "      <th>sg</th>\n",
       "      <th>al</th>\n",
       "      <th>su</th>\n",
       "      <th>rbc</th>\n",
       "      <th>pc</th>\n",
       "      <th>pcc</th>\n",
       "      <th>ba</th>\n",
       "      <th>bgr</th>\n",
       "      <th>...</th>\n",
       "      <th>pcv</th>\n",
       "      <th>wbcc</th>\n",
       "      <th>rbcc</th>\n",
       "      <th>htn</th>\n",
       "      <th>dm</th>\n",
       "      <th>cad</th>\n",
       "      <th>appet</th>\n",
       "      <th>pe</th>\n",
       "      <th>ane</th>\n",
       "      <th>classification</th>\n",
       "    </tr>\n",
       "  </thead>\n",
       "  <tbody>\n",
       "    <tr>\n",
       "      <th>30</th>\n",
       "      <td>48</td>\n",
       "      <td>70</td>\n",
       "      <td>1.005</td>\n",
       "      <td>4</td>\n",
       "      <td>0</td>\n",
       "      <td>normal</td>\n",
       "      <td>abnormal</td>\n",
       "      <td>present</td>\n",
       "      <td>notpresent</td>\n",
       "      <td>117</td>\n",
       "      <td>...</td>\n",
       "      <td>32</td>\n",
       "      <td>6700</td>\n",
       "      <td>3.9</td>\n",
       "      <td>yes</td>\n",
       "      <td>no</td>\n",
       "      <td>no</td>\n",
       "      <td>poor</td>\n",
       "      <td>yes</td>\n",
       "      <td>yes</td>\n",
       "      <td>ckd</td>\n",
       "    </tr>\n",
       "    <tr>\n",
       "      <th>36</th>\n",
       "      <td>53</td>\n",
       "      <td>90</td>\n",
       "      <td>1.020</td>\n",
       "      <td>2</td>\n",
       "      <td>0</td>\n",
       "      <td>abnormal</td>\n",
       "      <td>abnormal</td>\n",
       "      <td>present</td>\n",
       "      <td>notpresent</td>\n",
       "      <td>70</td>\n",
       "      <td>...</td>\n",
       "      <td>29</td>\n",
       "      <td>12100</td>\n",
       "      <td>3.7</td>\n",
       "      <td>yes</td>\n",
       "      <td>yes</td>\n",
       "      <td>no</td>\n",
       "      <td>poor</td>\n",
       "      <td>no</td>\n",
       "      <td>yes</td>\n",
       "      <td>ckd</td>\n",
       "    </tr>\n",
       "    <tr>\n",
       "      <th>38</th>\n",
       "      <td>63</td>\n",
       "      <td>70</td>\n",
       "      <td>1.010</td>\n",
       "      <td>3</td>\n",
       "      <td>0</td>\n",
       "      <td>abnormal</td>\n",
       "      <td>abnormal</td>\n",
       "      <td>present</td>\n",
       "      <td>notpresent</td>\n",
       "      <td>380</td>\n",
       "      <td>...</td>\n",
       "      <td>32</td>\n",
       "      <td>4500</td>\n",
       "      <td>3.8</td>\n",
       "      <td>yes</td>\n",
       "      <td>yes</td>\n",
       "      <td>no</td>\n",
       "      <td>poor</td>\n",
       "      <td>yes</td>\n",
       "      <td>no</td>\n",
       "      <td>ckd</td>\n",
       "    </tr>\n",
       "    <tr>\n",
       "      <th>41</th>\n",
       "      <td>68</td>\n",
       "      <td>80</td>\n",
       "      <td>1.010</td>\n",
       "      <td>3</td>\n",
       "      <td>2</td>\n",
       "      <td>normal</td>\n",
       "      <td>abnormal</td>\n",
       "      <td>present</td>\n",
       "      <td>present</td>\n",
       "      <td>157</td>\n",
       "      <td>...</td>\n",
       "      <td>16</td>\n",
       "      <td>11000</td>\n",
       "      <td>2.6</td>\n",
       "      <td>yes</td>\n",
       "      <td>yes</td>\n",
       "      <td>yes</td>\n",
       "      <td>poor</td>\n",
       "      <td>yes</td>\n",
       "      <td>no</td>\n",
       "      <td>ckd</td>\n",
       "    </tr>\n",
       "    <tr>\n",
       "      <th>47</th>\n",
       "      <td>61</td>\n",
       "      <td>80</td>\n",
       "      <td>1.015</td>\n",
       "      <td>2</td>\n",
       "      <td>0</td>\n",
       "      <td>abnormal</td>\n",
       "      <td>abnormal</td>\n",
       "      <td>notpresent</td>\n",
       "      <td>notpresent</td>\n",
       "      <td>173</td>\n",
       "      <td>...</td>\n",
       "      <td>24</td>\n",
       "      <td>9200</td>\n",
       "      <td>3.2</td>\n",
       "      <td>yes</td>\n",
       "      <td>yes</td>\n",
       "      <td>yes</td>\n",
       "      <td>poor</td>\n",
       "      <td>yes</td>\n",
       "      <td>yes</td>\n",
       "      <td>ckd</td>\n",
       "    </tr>\n",
       "  </tbody>\n",
       "</table>\n",
       "<p>5 rows × 25 columns</p>\n",
       "</div>"
      ],
      "text/plain": [
       "   age  bp     sg al su       rbc        pc         pcc          ba  bgr  ...  \\\n",
       "30  48  70  1.005  4  0    normal  abnormal     present  notpresent  117  ...   \n",
       "36  53  90  1.020  2  0  abnormal  abnormal     present  notpresent   70  ...   \n",
       "38  63  70  1.010  3  0  abnormal  abnormal     present  notpresent  380  ...   \n",
       "41  68  80  1.010  3  2    normal  abnormal     present     present  157  ...   \n",
       "47  61  80  1.015  2  0  abnormal  abnormal  notpresent  notpresent  173  ...   \n",
       "\n",
       "   pcv   wbcc rbcc  htn   dm  cad appet   pe  ane classification  \n",
       "30  32   6700  3.9  yes   no   no  poor  yes  yes            ckd  \n",
       "36  29  12100  3.7  yes  yes   no  poor   no  yes            ckd  \n",
       "38  32   4500  3.8  yes  yes   no  poor  yes   no            ckd  \n",
       "41  16  11000  2.6  yes  yes  yes  poor  yes   no            ckd  \n",
       "47  24   9200  3.2  yes  yes  yes  poor  yes  yes            ckd  \n",
       "\n",
       "[5 rows x 25 columns]"
      ]
     },
     "execution_count": 3,
     "metadata": {},
     "output_type": "execute_result"
    }
   ],
   "source": [
    "# dataset has '?' in it, convert these into NaN\n",
    "df = df.replace('?', np.nan)\n",
    "# drop the NaN\n",
    "df = df.dropna(axis=0, how=\"any\")\n",
    "df.head()"
   ]
  },
  {
   "cell_type": "code",
   "execution_count": 4,
   "metadata": {},
   "outputs": [
    {
     "data": {
      "text/plain": [
       "age               0\n",
       "bp                0\n",
       "sg                0\n",
       "al                0\n",
       "su                0\n",
       "rbc               0\n",
       "pc                0\n",
       "pcc               0\n",
       "ba                0\n",
       "bgr               0\n",
       "bu                0\n",
       "sc                0\n",
       "sod               0\n",
       "pot               0\n",
       "hemo              0\n",
       "pcv               0\n",
       "wbcc              0\n",
       "rbcc              0\n",
       "htn               0\n",
       "dm                0\n",
       "cad               0\n",
       "appet             0\n",
       "pe                0\n",
       "ane               0\n",
       "classification    0\n",
       "dtype: int64"
      ]
     },
     "execution_count": 4,
     "metadata": {},
     "output_type": "execute_result"
    }
   ],
   "source": [
    "#confirm all missing values have been removed\n",
    "df.isna().sum()"
   ]
  },
  {
   "cell_type": "code",
   "execution_count": 5,
   "metadata": {},
   "outputs": [
    {
     "name": "stdout",
     "output_type": "stream",
     "text": [
      "Total samples: 157\n"
     ]
    }
   ],
   "source": [
    "# print total samples\n",
    "print(\"Total samples:\", len(df))"
   ]
  },
  {
   "cell_type": "code",
   "execution_count": 6,
   "metadata": {},
   "outputs": [
    {
     "name": "stdout",
     "output_type": "stream",
     "text": [
      "Partial data\n",
      "    age  bp     sg al su       rbc        pc      pcc          ba  bgr  ...  \\\n",
      "30  48  70  1.005  4  0    normal  abnormal  present  notpresent  117  ...   \n",
      "36  53  90  1.020  2  0  abnormal  abnormal  present  notpresent   70  ...   \n",
      "38  63  70  1.010  3  0  abnormal  abnormal  present  notpresent  380  ...   \n",
      "41  68  80  1.010  3  2    normal  abnormal  present     present  157  ...   \n",
      "\n",
      "   pcv   wbcc rbcc  htn   dm  cad appet   pe  ane classification  \n",
      "30  32   6700  3.9  yes   no   no  poor  yes  yes            ckd  \n",
      "36  29  12100  3.7  yes  yes   no  poor   no  yes            ckd  \n",
      "38  32   4500  3.8  yes  yes   no  poor  yes   no            ckd  \n",
      "41  16  11000  2.6  yes  yes  yes  poor  yes   no            ckd  \n",
      "\n",
      "[4 rows x 25 columns]\n"
     ]
    }
   ],
   "source": [
    "# print 4-rows and 25-columns\n",
    "print(\"Partial data\\n\", df.iloc[0:4, 0:25])"
   ]
  },
  {
   "cell_type": "code",
   "execution_count": 7,
   "metadata": {},
   "outputs": [
    {
     "data": {
      "text/plain": [
       "(    age  bp     sg al su       rbc        pc         pcc          ba  bgr  \\\n",
       " 30   48  70  1.005  4  0    normal  abnormal     present  notpresent  117   \n",
       " 36   53  90  1.020  2  0  abnormal  abnormal     present  notpresent   70   \n",
       " 38   63  70  1.010  3  0  abnormal  abnormal     present  notpresent  380   \n",
       " 41   68  80  1.010  3  2    normal  abnormal     present     present  157   \n",
       " 47   61  80  1.015  2  0  abnormal  abnormal  notpresent  notpresent  173   \n",
       " ..   ..  ..    ... .. ..       ...       ...         ...         ...  ...   \n",
       " 422  55  80  1.020  0  0    normal    normal  notpresent  notpresent  140   \n",
       " 423  42  70  1.025  0  0    normal    normal  notpresent  notpresent   75   \n",
       " 424  12  80  1.020  0  0    normal    normal  notpresent  notpresent  100   \n",
       " 425  17  60  1.025  0  0    normal    normal  notpresent  notpresent  114   \n",
       " 426  58  80  1.025  0  0    normal    normal  notpresent  notpresent  131   \n",
       " \n",
       "      ...  hemo pcv   wbcc rbcc  htn   dm  cad appet   pe  ane  \n",
       " 30   ...  11.2  32   6700  3.9  yes   no   no  poor  yes  yes  \n",
       " 36   ...   9.5  29  12100  3.7  yes  yes   no  poor   no  yes  \n",
       " 38   ...  10.8  32   4500  3.8  yes  yes   no  poor  yes   no  \n",
       " 41   ...   5.6  16  11000  2.6  yes  yes  yes  poor  yes   no  \n",
       " 47   ...   7.7  24   9200  3.2  yes  yes  yes  poor  yes  yes  \n",
       " ..   ...   ...  ..    ...  ...  ...  ...  ...   ...  ...  ...  \n",
       " 422  ...  15.7  47   6700  4.9   no   no   no  good   no   no  \n",
       " 423  ...  16.5  54   7800  6.2   no   no   no  good   no   no  \n",
       " 424  ...  15.8  49   6600  5.4   no   no   no  good   no   no  \n",
       " 425  ...  14.2  51   7200  5.9   no   no   no  good   no   no  \n",
       " 426  ...  15.8  53   6800  6.1   no   no   no  good   no   no  \n",
       " \n",
       " [157 rows x 24 columns],\n",
       " 30        ckd\n",
       " 36        ckd\n",
       " 38        ckd\n",
       " 41        ckd\n",
       " 47        ckd\n",
       "         ...  \n",
       " 422    notckd\n",
       " 423    notckd\n",
       " 424    notckd\n",
       " 425    notckd\n",
       " 426    notckd\n",
       " Name: classification, Length: 157, dtype: object)"
      ]
     },
     "execution_count": 7,
     "metadata": {},
     "output_type": "execute_result"
    }
   ],
   "source": [
    "# Create X(data/feature variables)\n",
    "X = df.drop(\"classification\", axis=1)\n",
    "global_X=X\n",
    "\n",
    "# Create Y(labels)\n",
    "y = df[\"classification\"]\n",
    "global_y=y\n",
    "X, y"
   ]
  },
  {
   "cell_type": "markdown",
   "metadata": {},
   "source": [
    "## 3. Choosing the right algorithm and hyperparameters\n"
   ]
  },
  {
   "cell_type": "markdown",
   "metadata": {},
   "source": [
    "# Neural network"
   ]
  },
  {
   "cell_type": "markdown",
   "metadata": {},
   "source": [
    "# KNN"
   ]
  },
  {
   "cell_type": "code",
   "execution_count": 45,
   "metadata": {},
   "outputs": [
    {
     "ename": "NameError",
     "evalue": "name 'Sequential' is not defined",
     "output_type": "error",
     "traceback": [
      "\u001b[1;31m---------------------------------------------------------------------------\u001b[0m",
      "\u001b[1;31mNameError\u001b[0m                                 Traceback (most recent call last)",
      "\u001b[1;32m<ipython-input-45-c54426a7d677>\u001b[0m in \u001b[0;36m<module>\u001b[1;34m\u001b[0m\n\u001b[1;32m----> 1\u001b[1;33m \u001b[0mmodel\u001b[0m \u001b[1;33m=\u001b[0m \u001b[0mSequential\u001b[0m\u001b[1;33m(\u001b[0m\u001b[1;33m)\u001b[0m\u001b[1;33m\u001b[0m\u001b[1;33m\u001b[0m\u001b[0m\n\u001b[0m\u001b[0;32m      2\u001b[0m \u001b[0mmodel\u001b[0m\u001b[1;33m.\u001b[0m\u001b[0madd\u001b[0m\u001b[1;33m(\u001b[0m\u001b[0mDense\u001b[0m\u001b[1;33m(\u001b[0m\u001b[1;36m256\u001b[0m\u001b[1;33m,\u001b[0m \u001b[0minput_dim\u001b[0m\u001b[1;33m=\u001b[0m\u001b[0mlen\u001b[0m\u001b[1;33m(\u001b[0m\u001b[0mX\u001b[0m\u001b[1;33m.\u001b[0m\u001b[0mcolumns\u001b[0m\u001b[1;33m)\u001b[0m\u001b[1;33m,\u001b[0m              \u001b[0mkernel_initializer\u001b[0m\u001b[1;33m=\u001b[0m\u001b[0mk\u001b[0m\u001b[1;33m.\u001b[0m\u001b[0minitializers\u001b[0m\u001b[1;33m.\u001b[0m\u001b[0mrandom_normal\u001b[0m\u001b[1;33m(\u001b[0m\u001b[0mseed\u001b[0m\u001b[1;33m=\u001b[0m\u001b[1;36m13\u001b[0m\u001b[1;33m)\u001b[0m\u001b[1;33m,\u001b[0m \u001b[0mactivation\u001b[0m\u001b[1;33m=\u001b[0m\u001b[1;34m\"relu\"\u001b[0m\u001b[1;33m)\u001b[0m\u001b[1;33m)\u001b[0m\u001b[1;33m\u001b[0m\u001b[1;33m\u001b[0m\u001b[0m\n",
      "\u001b[1;31mNameError\u001b[0m: name 'Sequential' is not defined"
     ]
    }
   ],
   "source": [
    "model = Sequential()\n",
    "model.add(Dense(256, input_dim=len(X.columns),\n",
    "                kernel_initializer=k.initializers.random_normal(seed=13),\n",
    "                activation=\"relu\"))\n",
    "model.add(Dense(1, activation=\"hard_sigmoid\"))"
   ]
  },
  {
   "cell_type": "code",
   "execution_count": 8,
   "metadata": {},
   "outputs": [
    {
     "name": "stderr",
     "output_type": "stream",
     "text": [
      "C:\\Users\\charl\\anaconda3\\lib\\importlib\\_bootstrap.py:219: RuntimeWarning: numpy.ufunc size changed, may indicate binary incompatibility. Expected 192 from C header, got 216 from PyObject\n",
      "  return f(*args, **kwds)\n",
      "C:\\Users\\charl\\anaconda3\\lib\\importlib\\_bootstrap.py:219: RuntimeWarning: numpy.ufunc size changed, may indicate binary incompatibility. Expected 192 from C header, got 216 from PyObject\n",
      "  return f(*args, **kwds)\n",
      "C:\\Users\\charl\\anaconda3\\lib\\importlib\\_bootstrap.py:219: RuntimeWarning: numpy.ufunc size changed, may indicate binary incompatibility. Expected 192 from C header, got 216 from PyObject\n",
      "  return f(*args, **kwds)\n"
     ]
    }
   ],
   "source": [
    "from sklearn.neighbors import KNeighborsClassifier\n",
    "neigh_3 = KNeighborsClassifier(n_neighbors=3)\n",
    "neigh_20 = KNeighborsClassifier(n_neighbors=20)\n",
    "neigh_30 = KNeighborsClassifier(n_neighbors=30)\n",
    "neigh_40 = KNeighborsClassifier(n_neighbors=40)"
   ]
  },
  {
   "cell_type": "markdown",
   "metadata": {},
   "source": [
    "# decision tree"
   ]
  },
  {
   "cell_type": "code",
   "execution_count": 9,
   "metadata": {},
   "outputs": [
    {
     "data": {
      "text/plain": [
       "{'ccp_alpha': 0.0,\n",
       " 'class_weight': None,\n",
       " 'criterion': 'gini',\n",
       " 'max_depth': None,\n",
       " 'max_features': None,\n",
       " 'max_leaf_nodes': None,\n",
       " 'min_impurity_decrease': 0.0,\n",
       " 'min_impurity_split': None,\n",
       " 'min_samples_leaf': 1,\n",
       " 'min_samples_split': 2,\n",
       " 'min_weight_fraction_leaf': 0.0,\n",
       " 'presort': 'deprecated',\n",
       " 'random_state': 42,\n",
       " 'splitter': 'best'}"
      ]
     },
     "execution_count": 9,
     "metadata": {},
     "output_type": "execute_result"
    }
   ],
   "source": [
    "## choose the right model and classifier\n",
    "from sklearn import tree\n",
    "clf = tree.DecisionTreeClassifier(random_state=42)\n",
    "clf.get_params()\n",
    "# clf = clf.fit(X,y)"
   ]
  },
  {
   "cell_type": "markdown",
   "metadata": {},
   "source": [
    "## PCA analysis\n",
    "The objective here is to perform dimensionality reduction using PCA. For PCA, the features should be \"numerics\" only, therefore we need to remove the \"categorical\" features from the dataset."
   ]
  },
  {
   "cell_type": "code",
   "execution_count": 10,
   "metadata": {},
   "outputs": [
    {
     "name": "stdout",
     "output_type": "stream",
     "text": [
      "Partial data\n",
      "    age  bp su  bgr   bu   sc  sod  pot  hemo pcv   wbcc rbcc\n",
      "30  48  70  0  117   56  3.8  111  2.5  11.2  32   6700  3.9\n",
      "36  53  90  0   70  107  7.2  114  3.7   9.5  29  12100  3.7\n",
      "38  63  70  0  380   60  2.7  131  4.2  10.8  32   4500  3.8\n",
      "41  68  80  2  157   90  4.1  130  6.4   5.6  16  11000  2.6\n"
     ]
    }
   ],
   "source": [
    "# list of categorical features\n",
    "categorical_ = ['sg','al','rbc', 'pc', 'pcc', 'ba', 'htn',\n",
    "        'dm', 'cad', 'appet', 'pe', 'ane'\n",
    "        ]\n",
    "# drop the \"categorical\" features\n",
    "# drop the classification column\n",
    "df = df.drop(labels=['classification'], axis=1)\n",
    "\n",
    "# clf.fit(X_train, y_train)\n",
    "# drop using 'inplace' which is equivalent to df = df.drop()\n",
    "df.drop(labels=categorical_, axis=1, inplace=True)\n",
    "print(\"Partial data\\n\", df.iloc[0:4, 0:13]) # print partial data"
   ]
  },
  {
   "cell_type": "code",
   "execution_count": 11,
   "metadata": {},
   "outputs": [
    {
     "name": "stdout",
     "output_type": "stream",
     "text": [
      "X_Training data\n",
      "     age   bp su  bgr   bu   sc  sod  pot  hemo pcv    wbcc rbcc\n",
      "289  55   80  0  118   18  0.9  135  3.6  15.5  43    7200  5.4\n",
      "155  52   90  3  224  166  5.6  133   47   8.1  23    5000  2.9\n",
      "381  32   60  0  102   17  0.4  147  4.7  14.6  41    6800  5.1\n",
      "293  55   80  0  133   17  1.2  135  4.8  13.2  41    6800  5.3\n",
      "160  70  100  0  118  125  5.3  136  4.9  12.0  37  \\t8400  8.0\n",
      "X_Test data\n",
      "     age  bp su  bgr  bu   sc  sod  pot  hemo pcv   wbcc rbcc\n",
      "412  63  70  0  113  25  0.6  146  4.9  16.5  52   8000  5.1\n",
      "362  60  60  0  134  45  0.5  139  4.8  14.2  48  10700  5.6\n",
      "311  33  80  0  100  37  1.2  142  4.0  16.9  52   6700  6.0\n",
      "417  52  80  0   99  25  0.8  135  3.7  15.0  52   6300  5.3\n",
      "287  30  80  0  131  38  1.0  147  3.8  14.1  45   9400  5.3\n",
      "y_Training data\n",
      " 289    notckd\n",
      "155       ckd\n",
      "381    notckd\n",
      "293    notckd\n",
      "160       ckd\n",
      "Name: classification, dtype: object\n",
      "y_Test data\n",
      " 412    notckd\n",
      "362    notckd\n",
      "311    notckd\n",
      "417    notckd\n",
      "287    notckd\n",
      "Name: classification, dtype: object\n"
     ]
    }
   ],
   "source": [
    "## fit the model to training data\n",
    "from sklearn.model_selection import train_test_split\n",
    "\n",
    "normX = df\n",
    "\n",
    "X_train, X_test, y_train, y_test = train_test_split(normX, y, test_size=0.2, shuffle=True)\n",
    "print(\"X_Training data\\n\", X_train.head())\n",
    "print(\"X_Test data\\n\", X_test.head())\n",
    "print(\"y_Training data\\n\", y_train.head())\n",
    "print(\"y_Test data\\n\",  y_test.head())\n"
   ]
  },
  {
   "cell_type": "markdown",
   "metadata": {},
   "source": [
    "## Decision tree fitting"
   ]
  },
  {
   "cell_type": "code",
   "execution_count": 12,
   "metadata": {},
   "outputs": [
    {
     "data": {
      "text/plain": [
       "DecisionTreeClassifier(ccp_alpha=0.0, class_weight=None, criterion='gini',\n",
       "                       max_depth=None, max_features=None, max_leaf_nodes=None,\n",
       "                       min_impurity_decrease=0.0, min_impurity_split=None,\n",
       "                       min_samples_leaf=1, min_samples_split=2,\n",
       "                       min_weight_fraction_leaf=0.0, presort='deprecated',\n",
       "                       random_state=42, splitter='best')"
      ]
     },
     "execution_count": 12,
     "metadata": {},
     "output_type": "execute_result"
    }
   ],
   "source": [
    "clf.fit(X_train, y_train)"
   ]
  },
  {
   "cell_type": "code",
   "execution_count": 13,
   "metadata": {},
   "outputs": [
    {
     "data": {
      "text/plain": [
       "array(['notckd', 'notckd', 'notckd', 'notckd', 'notckd', 'ckd', 'notckd',\n",
       "       'notckd', 'notckd', 'notckd', 'ckd', 'ckd', 'notckd', 'notckd',\n",
       "       'notckd', 'notckd', 'notckd', 'notckd', 'notckd', 'ckd', 'notckd',\n",
       "       'notckd', 'ckd', 'notckd', 'notckd', 'notckd', 'notckd', 'notckd',\n",
       "       'notckd', 'notckd', 'ckd', 'notckd'], dtype=object)"
      ]
     },
     "execution_count": 13,
     "metadata": {},
     "output_type": "execute_result"
    }
   ],
   "source": [
    "y_preds = clf.predict(X_test)\n",
    "y_preds"
   ]
  },
  {
   "cell_type": "markdown",
   "metadata": {},
   "source": [
    "## KNN fitting"
   ]
  },
  {
   "cell_type": "code",
   "execution_count": 14,
   "metadata": {},
   "outputs": [
    {
     "data": {
      "text/plain": [
       "KNeighborsClassifier(algorithm='auto', leaf_size=30, metric='minkowski',\n",
       "                     metric_params=None, n_jobs=None, n_neighbors=40, p=2,\n",
       "                     weights='uniform')"
      ]
     },
     "execution_count": 14,
     "metadata": {},
     "output_type": "execute_result"
    }
   ],
   "source": [
    "neigh_3.fit(X_train, y_train)\n",
    "neigh_20.fit(X_train, y_train)\n",
    "neigh_30.fit(X_train, y_train)\n",
    "neigh_40.fit(X_train, y_train)"
   ]
  },
  {
   "cell_type": "code",
   "execution_count": 15,
   "metadata": {},
   "outputs": [
    {
     "name": "stdout",
     "output_type": "stream",
     "text": [
      "KNN with 3 neighbours ['notckd' 'notckd' 'notckd' 'notckd' 'notckd' 'notckd' 'notckd' 'ckd'\n",
      " 'notckd' 'notckd' 'ckd' 'ckd' 'notckd' 'notckd' 'notckd' 'notckd'\n",
      " 'notckd' 'notckd' 'notckd' 'notckd' 'ckd' 'notckd' 'ckd' 'notckd'\n",
      " 'notckd' 'notckd' 'notckd' 'notckd' 'notckd' 'notckd' 'ckd' 'notckd']\n"
     ]
    }
   ],
   "source": [
    "print(\"KNN with 3 neighbours\",neigh_3.predict(X_test))\n",
    "KNN_preds = neigh_3.predict(X_test)"
   ]
  },
  {
   "cell_type": "code",
   "execution_count": 16,
   "metadata": {},
   "outputs": [
    {
     "data": {
      "text/plain": [
       "412    notckd\n",
       "362    notckd\n",
       "311    notckd\n",
       "417    notckd\n",
       "287    notckd\n",
       "30        ckd\n",
       "281    notckd\n",
       "118       ckd\n",
       "422    notckd\n",
       "418    notckd\n",
       "225       ckd\n",
       "75        ckd\n",
       "407    notckd\n",
       "279    notckd\n",
       "394    notckd\n",
       "409    notckd\n",
       "411    notckd\n",
       "419    notckd\n",
       "393    notckd\n",
       "184       ckd\n",
       "117       ckd\n",
       "337    notckd\n",
       "98        ckd\n",
       "288    notckd\n",
       "277    notckd\n",
       "401    notckd\n",
       "332    notckd\n",
       "379    notckd\n",
       "338    notckd\n",
       "425    notckd\n",
       "252       ckd\n",
       "328    notckd\n",
       "Name: classification, dtype: object"
      ]
     },
     "execution_count": 16,
     "metadata": {},
     "output_type": "execute_result"
    }
   ],
   "source": [
    "y_test"
   ]
  },
  {
   "cell_type": "markdown",
   "metadata": {},
   "source": [
    "## 4. Evaluate the models\n",
    "How well the model we've just trained on training has learned and evaluate that perfomance on previously unseen data"
   ]
  },
  {
   "cell_type": "markdown",
   "metadata": {},
   "source": [
    "## Decision tree"
   ]
  },
  {
   "cell_type": "code",
   "execution_count": 17,
   "metadata": {},
   "outputs": [
    {
     "data": {
      "text/plain": [
       "1.0"
      ]
     },
     "execution_count": 17,
     "metadata": {},
     "output_type": "execute_result"
    }
   ],
   "source": [
    "# Evaluate the model on training and test data\n",
    "clf.score(X_train, y_train)#a score of 1 indicates 100%"
   ]
  },
  {
   "cell_type": "code",
   "execution_count": 18,
   "metadata": {},
   "outputs": [
    {
     "data": {
      "text/plain": [
       "0.9375"
      ]
     },
     "execution_count": 18,
     "metadata": {},
     "output_type": "execute_result"
    }
   ],
   "source": [
    "# evaluate perfomance on test data\n",
    "clf.score(X_test, y_test)#96.87% accuracy is still good for test accuracy"
   ]
  },
  {
   "cell_type": "markdown",
   "metadata": {},
   "source": [
    "## KNN"
   ]
  },
  {
   "cell_type": "code",
   "execution_count": 19,
   "metadata": {},
   "outputs": [
    {
     "data": {
      "text/plain": [
       "0.872"
      ]
     },
     "execution_count": 19,
     "metadata": {},
     "output_type": "execute_result"
    }
   ],
   "source": [
    "neigh_3.score(X_train, y_train)"
   ]
  },
  {
   "cell_type": "code",
   "execution_count": 20,
   "metadata": {},
   "outputs": [
    {
     "data": {
      "text/plain": [
       "0.9375"
      ]
     },
     "execution_count": 20,
     "metadata": {},
     "output_type": "execute_result"
    }
   ],
   "source": [
    "neigh_3.score(X_test, y_test)"
   ]
  },
  {
   "cell_type": "code",
   "execution_count": 21,
   "metadata": {},
   "outputs": [
    {
     "data": {
      "text/plain": [
       "0.784"
      ]
     },
     "execution_count": 21,
     "metadata": {},
     "output_type": "execute_result"
    }
   ],
   "source": [
    "neigh_20.score(X_train, y_train)"
   ]
  },
  {
   "cell_type": "code",
   "execution_count": 22,
   "metadata": {},
   "outputs": [
    {
     "data": {
      "text/plain": [
       "0.875"
      ]
     },
     "execution_count": 22,
     "metadata": {},
     "output_type": "execute_result"
    }
   ],
   "source": [
    "neigh_20.score(X_test, y_test)"
   ]
  },
  {
   "cell_type": "code",
   "execution_count": 23,
   "metadata": {},
   "outputs": [
    {
     "data": {
      "text/plain": [
       "0.784"
      ]
     },
     "execution_count": 23,
     "metadata": {},
     "output_type": "execute_result"
    }
   ],
   "source": [
    "neigh_30.score(X_train, y_train)"
   ]
  },
  {
   "cell_type": "code",
   "execution_count": 24,
   "metadata": {},
   "outputs": [
    {
     "data": {
      "text/plain": [
       "0.84375"
      ]
     },
     "execution_count": 24,
     "metadata": {},
     "output_type": "execute_result"
    }
   ],
   "source": [
    "neigh_30.score(X_test, y_test)"
   ]
  },
  {
   "cell_type": "code",
   "execution_count": 25,
   "metadata": {},
   "outputs": [
    {
     "data": {
      "text/plain": [
       "0.72"
      ]
     },
     "execution_count": 25,
     "metadata": {},
     "output_type": "execute_result"
    }
   ],
   "source": [
    "neigh_40.score(X_train, y_train)"
   ]
  },
  {
   "cell_type": "code",
   "execution_count": 26,
   "metadata": {},
   "outputs": [
    {
     "data": {
      "text/plain": [
       "0.75"
      ]
     },
     "execution_count": 26,
     "metadata": {},
     "output_type": "execute_result"
    }
   ],
   "source": [
    "neigh_40.score(X_test, y_test)"
   ]
  },
  {
   "cell_type": "markdown",
   "metadata": {},
   "source": [
    "## Other metrics for evaluating the perfomance of our model except for accuracy"
   ]
  },
  {
   "cell_type": "code",
   "execution_count": 27,
   "metadata": {},
   "outputs": [
    {
     "name": "stdout",
     "output_type": "stream",
     "text": [
      "              precision    recall  f1-score   support\n",
      "\n",
      "         ckd       1.00      0.75      0.86         8\n",
      "      notckd       0.92      1.00      0.96        24\n",
      "\n",
      "    accuracy                           0.94        32\n",
      "   macro avg       0.96      0.88      0.91        32\n",
      "weighted avg       0.94      0.94      0.93        32\n",
      "\n"
     ]
    }
   ],
   "source": [
    "from sklearn.metrics import classification_report, confusion_matrix, accuracy_score\n",
    "\n",
    "#compare test labels to prediction labels of the decision tree algorithm\n",
    "print(classification_report(y_test, y_preds))"
   ]
  },
  {
   "cell_type": "code",
   "execution_count": 28,
   "metadata": {},
   "outputs": [
    {
     "name": "stdout",
     "output_type": "stream",
     "text": [
      "              precision    recall  f1-score   support\n",
      "\n",
      "         ckd       1.00      0.75      0.86         8\n",
      "      notckd       0.92      1.00      0.96        24\n",
      "\n",
      "    accuracy                           0.94        32\n",
      "   macro avg       0.96      0.88      0.91        32\n",
      "weighted avg       0.94      0.94      0.93        32\n",
      "\n"
     ]
    }
   ],
   "source": [
    "#compare test labels to prediction labels of the KNN algorithm\n",
    "print(classification_report(y_test, KNN_preds))"
   ]
  },
  {
   "cell_type": "markdown",
   "metadata": {},
   "source": [
    "# confusion matrix"
   ]
  },
  {
   "cell_type": "code",
   "execution_count": 29,
   "metadata": {},
   "outputs": [
    {
     "data": {
      "text/plain": [
       "array([[ 6,  2],\n",
       "       [ 0, 24]], dtype=int64)"
      ]
     },
     "execution_count": 29,
     "metadata": {},
     "output_type": "execute_result"
    }
   ],
   "source": [
    "#Decision tree algorithm\n",
    "confusion_matrix(y_test, y_preds)"
   ]
  },
  {
   "cell_type": "code",
   "execution_count": 30,
   "metadata": {},
   "outputs": [
    {
     "data": {
      "text/plain": [
       "array([[ 6,  2],\n",
       "       [ 0, 24]], dtype=int64)"
      ]
     },
     "execution_count": 30,
     "metadata": {},
     "output_type": "execute_result"
    }
   ],
   "source": [
    "#KNN algorithm\n",
    "confusion_matrix(y_test, KNN_preds)"
   ]
  },
  {
   "cell_type": "markdown",
   "metadata": {},
   "source": [
    "# accuracy score"
   ]
  },
  {
   "cell_type": "code",
   "execution_count": 31,
   "metadata": {},
   "outputs": [
    {
     "name": "stdout",
     "output_type": "stream",
     "text": [
      "DecisionTreeClassifier 0.9375\n",
      "Classification Report for DecisionTreeClassifier\n",
      "              precision    recall  f1-score   support\n",
      "\n",
      "         ckd       1.00      0.75      0.86         8\n",
      "      notckd       0.92      1.00      0.96        24\n",
      "\n",
      "    accuracy                           0.94        32\n",
      "   macro avg       0.96      0.88      0.91        32\n",
      "weighted avg       0.94      0.94      0.93        32\n",
      "\n",
      "************************************************************\n",
      "the model is 93.75% accurate\n"
     ]
    }
   ],
   "source": [
    "#Decision tree\n",
    "print(clf.__class__.__name__, accuracy_score(y_test, y_preds))\n",
    "print(f'Classification Report for {clf.__class__.__name__}')\n",
    "print(classification_report(y_test, y_preds))\n",
    "print('*'*60)\n",
    "print(f\"the model is {accuracy_score(y_test, y_preds)*100:.2f}% accurate\")"
   ]
  },
  {
   "cell_type": "code",
   "execution_count": 32,
   "metadata": {},
   "outputs": [
    {
     "name": "stdout",
     "output_type": "stream",
     "text": [
      "KNeighborsClassifier 0.9375\n",
      "Classification Report for KNeighborsClassifier\n",
      "              precision    recall  f1-score   support\n",
      "\n",
      "         ckd       1.00      0.75      0.86         8\n",
      "      notckd       0.92      1.00      0.96        24\n",
      "\n",
      "    accuracy                           0.94        32\n",
      "   macro avg       0.96      0.88      0.91        32\n",
      "weighted avg       0.94      0.94      0.93        32\n",
      "\n",
      "************************************************************\n",
      "the model is 93.75% accurate\n"
     ]
    }
   ],
   "source": [
    "# KNN\n",
    "print(neigh_3.__class__.__name__, accuracy_score(y_test, KNN_preds))\n",
    "print(f'Classification Report for {neigh_3.__class__.__name__}')\n",
    "print(classification_report(y_test, KNN_preds))\n",
    "print('*'*60)\n",
    "print(f\"the model is {accuracy_score(y_test, KNN_preds)*100:.2f}% accurate\")"
   ]
  },
  {
   "cell_type": "markdown",
   "metadata": {},
   "source": [
    "## Saving targets with different color names\n",
    "For plotting purposes, it is recommended to save the targets of a classification process with some color name"
   ]
  },
  {
   "cell_type": "code",
   "execution_count": 33,
   "metadata": {},
   "outputs": [
    {
     "name": "stdout",
     "output_type": "stream",
     "text": [
      "['red', 'red', 'red'] ['green', 'green']\n"
     ]
    }
   ],
   "source": [
    "targets = y.astype('category')\n",
    "# save target-values as color for plotting\n",
    "# red: disease,  green: no disease\n",
    "label_color = ['red' if i=='ckd' else 'green' for i in targets]\n",
    "print(label_color[0:3], label_color[-3:-1])"
   ]
  },
  {
   "cell_type": "code",
   "execution_count": 34,
   "metadata": {},
   "outputs": [],
   "source": [
    "# # Create X(data/feature variables)\n",
    "# X = df\n",
    "\n",
    "# # Create Y(labels)\n",
    "# y = df[\"classification\"]\n",
    "# X, y"
   ]
  },
  {
   "cell_type": "markdown",
   "metadata": {},
   "source": [
    "## converting the dropped categorical features to numerical features\n",
    "We initially dropped several categorical features as they cannot be used by PCA. However we did not have to do this as converting them to numeric features could have also done the trick. We use one-hot-encoding"
   ]
  },
  {
   "cell_type": "code",
   "execution_count": 35,
   "metadata": {},
   "outputs": [
    {
     "data": {
      "text/html": [
       "<div>\n",
       "<style scoped>\n",
       "    .dataframe tbody tr th:only-of-type {\n",
       "        vertical-align: middle;\n",
       "    }\n",
       "\n",
       "    .dataframe tbody tr th {\n",
       "        vertical-align: top;\n",
       "    }\n",
       "\n",
       "    .dataframe thead th {\n",
       "        text-align: right;\n",
       "    }\n",
       "</style>\n",
       "<table border=\"1\" class=\"dataframe\">\n",
       "  <thead>\n",
       "    <tr style=\"text-align: right;\">\n",
       "      <th></th>\n",
       "      <th>0</th>\n",
       "      <th>1</th>\n",
       "      <th>2</th>\n",
       "      <th>3</th>\n",
       "      <th>4</th>\n",
       "      <th>5</th>\n",
       "      <th>6</th>\n",
       "      <th>7</th>\n",
       "      <th>8</th>\n",
       "      <th>9</th>\n",
       "      <th>...</th>\n",
       "      <th>32</th>\n",
       "      <th>33</th>\n",
       "      <th>34</th>\n",
       "      <th>35</th>\n",
       "      <th>36</th>\n",
       "      <th>37</th>\n",
       "      <th>38</th>\n",
       "      <th>39</th>\n",
       "      <th>40</th>\n",
       "      <th>41</th>\n",
       "    </tr>\n",
       "  </thead>\n",
       "  <tbody>\n",
       "    <tr>\n",
       "      <th>0</th>\n",
       "      <td>1</td>\n",
       "      <td>0</td>\n",
       "      <td>0</td>\n",
       "      <td>0</td>\n",
       "      <td>0</td>\n",
       "      <td>0</td>\n",
       "      <td>0</td>\n",
       "      <td>0</td>\n",
       "      <td>0</td>\n",
       "      <td>1</td>\n",
       "      <td>...</td>\n",
       "      <td>0</td>\n",
       "      <td>117</td>\n",
       "      <td>56</td>\n",
       "      <td>3.8</td>\n",
       "      <td>111</td>\n",
       "      <td>2.5</td>\n",
       "      <td>11.2</td>\n",
       "      <td>32</td>\n",
       "      <td>6700</td>\n",
       "      <td>3.9</td>\n",
       "    </tr>\n",
       "    <tr>\n",
       "      <th>1</th>\n",
       "      <td>0</td>\n",
       "      <td>0</td>\n",
       "      <td>0</td>\n",
       "      <td>1</td>\n",
       "      <td>0</td>\n",
       "      <td>0</td>\n",
       "      <td>0</td>\n",
       "      <td>1</td>\n",
       "      <td>0</td>\n",
       "      <td>0</td>\n",
       "      <td>...</td>\n",
       "      <td>0</td>\n",
       "      <td>70</td>\n",
       "      <td>107</td>\n",
       "      <td>7.2</td>\n",
       "      <td>114</td>\n",
       "      <td>3.7</td>\n",
       "      <td>9.5</td>\n",
       "      <td>29</td>\n",
       "      <td>12100</td>\n",
       "      <td>3.7</td>\n",
       "    </tr>\n",
       "    <tr>\n",
       "      <th>2</th>\n",
       "      <td>0</td>\n",
       "      <td>1</td>\n",
       "      <td>0</td>\n",
       "      <td>0</td>\n",
       "      <td>0</td>\n",
       "      <td>0</td>\n",
       "      <td>0</td>\n",
       "      <td>0</td>\n",
       "      <td>1</td>\n",
       "      <td>0</td>\n",
       "      <td>...</td>\n",
       "      <td>0</td>\n",
       "      <td>380</td>\n",
       "      <td>60</td>\n",
       "      <td>2.7</td>\n",
       "      <td>131</td>\n",
       "      <td>4.2</td>\n",
       "      <td>10.8</td>\n",
       "      <td>32</td>\n",
       "      <td>4500</td>\n",
       "      <td>3.8</td>\n",
       "    </tr>\n",
       "    <tr>\n",
       "      <th>3</th>\n",
       "      <td>0</td>\n",
       "      <td>1</td>\n",
       "      <td>0</td>\n",
       "      <td>0</td>\n",
       "      <td>0</td>\n",
       "      <td>0</td>\n",
       "      <td>0</td>\n",
       "      <td>0</td>\n",
       "      <td>1</td>\n",
       "      <td>0</td>\n",
       "      <td>...</td>\n",
       "      <td>2</td>\n",
       "      <td>157</td>\n",
       "      <td>90</td>\n",
       "      <td>4.1</td>\n",
       "      <td>130</td>\n",
       "      <td>6.4</td>\n",
       "      <td>5.6</td>\n",
       "      <td>16</td>\n",
       "      <td>11000</td>\n",
       "      <td>2.6</td>\n",
       "    </tr>\n",
       "    <tr>\n",
       "      <th>4</th>\n",
       "      <td>0</td>\n",
       "      <td>0</td>\n",
       "      <td>1</td>\n",
       "      <td>0</td>\n",
       "      <td>0</td>\n",
       "      <td>0</td>\n",
       "      <td>0</td>\n",
       "      <td>1</td>\n",
       "      <td>0</td>\n",
       "      <td>0</td>\n",
       "      <td>...</td>\n",
       "      <td>0</td>\n",
       "      <td>173</td>\n",
       "      <td>148</td>\n",
       "      <td>3.9</td>\n",
       "      <td>135</td>\n",
       "      <td>5.2</td>\n",
       "      <td>7.7</td>\n",
       "      <td>24</td>\n",
       "      <td>9200</td>\n",
       "      <td>3.2</td>\n",
       "    </tr>\n",
       "    <tr>\n",
       "      <th>...</th>\n",
       "      <td>...</td>\n",
       "      <td>...</td>\n",
       "      <td>...</td>\n",
       "      <td>...</td>\n",
       "      <td>...</td>\n",
       "      <td>...</td>\n",
       "      <td>...</td>\n",
       "      <td>...</td>\n",
       "      <td>...</td>\n",
       "      <td>...</td>\n",
       "      <td>...</td>\n",
       "      <td>...</td>\n",
       "      <td>...</td>\n",
       "      <td>...</td>\n",
       "      <td>...</td>\n",
       "      <td>...</td>\n",
       "      <td>...</td>\n",
       "      <td>...</td>\n",
       "      <td>...</td>\n",
       "      <td>...</td>\n",
       "      <td>...</td>\n",
       "    </tr>\n",
       "    <tr>\n",
       "      <th>152</th>\n",
       "      <td>0</td>\n",
       "      <td>0</td>\n",
       "      <td>0</td>\n",
       "      <td>1</td>\n",
       "      <td>0</td>\n",
       "      <td>1</td>\n",
       "      <td>0</td>\n",
       "      <td>0</td>\n",
       "      <td>0</td>\n",
       "      <td>0</td>\n",
       "      <td>...</td>\n",
       "      <td>0</td>\n",
       "      <td>140</td>\n",
       "      <td>49</td>\n",
       "      <td>0.5</td>\n",
       "      <td>150</td>\n",
       "      <td>4.9</td>\n",
       "      <td>15.7</td>\n",
       "      <td>47</td>\n",
       "      <td>6700</td>\n",
       "      <td>4.9</td>\n",
       "    </tr>\n",
       "    <tr>\n",
       "      <th>153</th>\n",
       "      <td>0</td>\n",
       "      <td>0</td>\n",
       "      <td>0</td>\n",
       "      <td>0</td>\n",
       "      <td>1</td>\n",
       "      <td>1</td>\n",
       "      <td>0</td>\n",
       "      <td>0</td>\n",
       "      <td>0</td>\n",
       "      <td>0</td>\n",
       "      <td>...</td>\n",
       "      <td>0</td>\n",
       "      <td>75</td>\n",
       "      <td>31</td>\n",
       "      <td>1.2</td>\n",
       "      <td>141</td>\n",
       "      <td>3.5</td>\n",
       "      <td>16.5</td>\n",
       "      <td>54</td>\n",
       "      <td>7800</td>\n",
       "      <td>6.2</td>\n",
       "    </tr>\n",
       "    <tr>\n",
       "      <th>154</th>\n",
       "      <td>0</td>\n",
       "      <td>0</td>\n",
       "      <td>0</td>\n",
       "      <td>1</td>\n",
       "      <td>0</td>\n",
       "      <td>1</td>\n",
       "      <td>0</td>\n",
       "      <td>0</td>\n",
       "      <td>0</td>\n",
       "      <td>0</td>\n",
       "      <td>...</td>\n",
       "      <td>0</td>\n",
       "      <td>100</td>\n",
       "      <td>26</td>\n",
       "      <td>0.6</td>\n",
       "      <td>137</td>\n",
       "      <td>4.4</td>\n",
       "      <td>15.8</td>\n",
       "      <td>49</td>\n",
       "      <td>6600</td>\n",
       "      <td>5.4</td>\n",
       "    </tr>\n",
       "    <tr>\n",
       "      <th>155</th>\n",
       "      <td>0</td>\n",
       "      <td>0</td>\n",
       "      <td>0</td>\n",
       "      <td>0</td>\n",
       "      <td>1</td>\n",
       "      <td>1</td>\n",
       "      <td>0</td>\n",
       "      <td>0</td>\n",
       "      <td>0</td>\n",
       "      <td>0</td>\n",
       "      <td>...</td>\n",
       "      <td>0</td>\n",
       "      <td>114</td>\n",
       "      <td>50</td>\n",
       "      <td>1.0</td>\n",
       "      <td>135</td>\n",
       "      <td>4.9</td>\n",
       "      <td>14.2</td>\n",
       "      <td>51</td>\n",
       "      <td>7200</td>\n",
       "      <td>5.9</td>\n",
       "    </tr>\n",
       "    <tr>\n",
       "      <th>156</th>\n",
       "      <td>0</td>\n",
       "      <td>0</td>\n",
       "      <td>0</td>\n",
       "      <td>0</td>\n",
       "      <td>1</td>\n",
       "      <td>1</td>\n",
       "      <td>0</td>\n",
       "      <td>0</td>\n",
       "      <td>0</td>\n",
       "      <td>0</td>\n",
       "      <td>...</td>\n",
       "      <td>0</td>\n",
       "      <td>131</td>\n",
       "      <td>18</td>\n",
       "      <td>1.1</td>\n",
       "      <td>141</td>\n",
       "      <td>3.5</td>\n",
       "      <td>15.8</td>\n",
       "      <td>53</td>\n",
       "      <td>6800</td>\n",
       "      <td>6.1</td>\n",
       "    </tr>\n",
       "  </tbody>\n",
       "</table>\n",
       "<p>157 rows × 42 columns</p>\n",
       "</div>"
      ],
      "text/plain": [
       "    0  1  2  3  4  5  6  7  8  9   ... 32   33   34   35   36   37    38  39  \\\n",
       "0    1  0  0  0  0  0  0  0  0  1  ...  0  117   56  3.8  111  2.5  11.2  32   \n",
       "1    0  0  0  1  0  0  0  1  0  0  ...  0   70  107  7.2  114  3.7   9.5  29   \n",
       "2    0  1  0  0  0  0  0  0  1  0  ...  0  380   60  2.7  131  4.2  10.8  32   \n",
       "3    0  1  0  0  0  0  0  0  1  0  ...  2  157   90  4.1  130  6.4   5.6  16   \n",
       "4    0  0  1  0  0  0  0  1  0  0  ...  0  173  148  3.9  135  5.2   7.7  24   \n",
       "..  .. .. .. .. .. .. .. .. .. ..  ... ..  ...  ...  ...  ...  ...   ...  ..   \n",
       "152  0  0  0  1  0  1  0  0  0  0  ...  0  140   49  0.5  150  4.9  15.7  47   \n",
       "153  0  0  0  0  1  1  0  0  0  0  ...  0   75   31  1.2  141  3.5  16.5  54   \n",
       "154  0  0  0  1  0  1  0  0  0  0  ...  0  100   26  0.6  137  4.4  15.8  49   \n",
       "155  0  0  0  0  1  1  0  0  0  0  ...  0  114   50  1.0  135  4.9  14.2  51   \n",
       "156  0  0  0  0  1  1  0  0  0  0  ...  0  131   18  1.1  141  3.5  15.8  53   \n",
       "\n",
       "        40   41  \n",
       "0     6700  3.9  \n",
       "1    12100  3.7  \n",
       "2     4500  3.8  \n",
       "3    11000  2.6  \n",
       "4     9200  3.2  \n",
       "..     ...  ...  \n",
       "152   6700  4.9  \n",
       "153   7800  6.2  \n",
       "154   6600  5.4  \n",
       "155   7200  5.9  \n",
       "156   6800  6.1  \n",
       "\n",
       "[157 rows x 42 columns]"
      ]
     },
     "execution_count": 35,
     "metadata": {},
     "output_type": "execute_result"
    }
   ],
   "source": [
    "from sklearn.preprocessing import OneHotEncoder\n",
    "from sklearn.compose import ColumnTransformer\n",
    "\n",
    "categorical_features = ['sg','al','rbc', 'pc', 'pcc', 'ba', 'htn',\n",
    "        'dm', 'cad', 'appet', 'pe', 'ane'\n",
    "        ]\n",
    "one_hot = OneHotEncoder()\n",
    "transformer = ColumnTransformer([(\"one_hot\", one_hot, categorical_features)],\n",
    "                                remainder=\"passthrough\")\n",
    "transformed_X = transformer.fit_transform(global_X)\n",
    "pd.DataFrame(transformed_X)\n"
   ]
  },
  {
   "cell_type": "code",
   "execution_count": 36,
   "metadata": {},
   "outputs": [
    {
     "data": {
      "text/html": [
       "<div>\n",
       "<style scoped>\n",
       "    .dataframe tbody tr th:only-of-type {\n",
       "        vertical-align: middle;\n",
       "    }\n",
       "\n",
       "    .dataframe tbody tr th {\n",
       "        vertical-align: top;\n",
       "    }\n",
       "\n",
       "    .dataframe thead th {\n",
       "        text-align: right;\n",
       "    }\n",
       "</style>\n",
       "<table border=\"1\" class=\"dataframe\">\n",
       "  <thead>\n",
       "    <tr style=\"text-align: right;\">\n",
       "      <th></th>\n",
       "      <th>age</th>\n",
       "      <th>bp</th>\n",
       "      <th>su</th>\n",
       "      <th>bgr</th>\n",
       "      <th>bu</th>\n",
       "      <th>sc</th>\n",
       "      <th>sod</th>\n",
       "      <th>pot</th>\n",
       "      <th>hemo</th>\n",
       "      <th>pcv</th>\n",
       "      <th>...</th>\n",
       "      <th>appet_good</th>\n",
       "      <th>appet_no</th>\n",
       "      <th>appet_poor</th>\n",
       "      <th>pe_?</th>\n",
       "      <th>pe_good</th>\n",
       "      <th>pe_no</th>\n",
       "      <th>pe_yes</th>\n",
       "      <th>ane_?</th>\n",
       "      <th>ane_no</th>\n",
       "      <th>ane_yes</th>\n",
       "    </tr>\n",
       "  </thead>\n",
       "  <tbody>\n",
       "    <tr>\n",
       "      <th>0</th>\n",
       "      <td>@relation Chronic_Kidney_Disease</td>\n",
       "      <td>NaN</td>\n",
       "      <td>NaN</td>\n",
       "      <td>NaN</td>\n",
       "      <td>NaN</td>\n",
       "      <td>NaN</td>\n",
       "      <td>NaN</td>\n",
       "      <td>NaN</td>\n",
       "      <td>NaN</td>\n",
       "      <td>NaN</td>\n",
       "      <td>...</td>\n",
       "      <td>0</td>\n",
       "      <td>0</td>\n",
       "      <td>0</td>\n",
       "      <td>0</td>\n",
       "      <td>0</td>\n",
       "      <td>0</td>\n",
       "      <td>0</td>\n",
       "      <td>0</td>\n",
       "      <td>0</td>\n",
       "      <td>0</td>\n",
       "    </tr>\n",
       "    <tr>\n",
       "      <th>1</th>\n",
       "      <td>@attribute 'age' numeric</td>\n",
       "      <td>NaN</td>\n",
       "      <td>NaN</td>\n",
       "      <td>NaN</td>\n",
       "      <td>NaN</td>\n",
       "      <td>NaN</td>\n",
       "      <td>NaN</td>\n",
       "      <td>NaN</td>\n",
       "      <td>NaN</td>\n",
       "      <td>NaN</td>\n",
       "      <td>...</td>\n",
       "      <td>0</td>\n",
       "      <td>0</td>\n",
       "      <td>0</td>\n",
       "      <td>0</td>\n",
       "      <td>0</td>\n",
       "      <td>0</td>\n",
       "      <td>0</td>\n",
       "      <td>0</td>\n",
       "      <td>0</td>\n",
       "      <td>0</td>\n",
       "    </tr>\n",
       "    <tr>\n",
       "      <th>2</th>\n",
       "      <td>@attribute 'bp'  numeric</td>\n",
       "      <td>NaN</td>\n",
       "      <td>NaN</td>\n",
       "      <td>NaN</td>\n",
       "      <td>NaN</td>\n",
       "      <td>NaN</td>\n",
       "      <td>NaN</td>\n",
       "      <td>NaN</td>\n",
       "      <td>NaN</td>\n",
       "      <td>NaN</td>\n",
       "      <td>...</td>\n",
       "      <td>0</td>\n",
       "      <td>0</td>\n",
       "      <td>0</td>\n",
       "      <td>0</td>\n",
       "      <td>0</td>\n",
       "      <td>0</td>\n",
       "      <td>0</td>\n",
       "      <td>0</td>\n",
       "      <td>0</td>\n",
       "      <td>0</td>\n",
       "    </tr>\n",
       "    <tr>\n",
       "      <th>3</th>\n",
       "      <td>@attribute 'sg' {1.005</td>\n",
       "      <td>1.010</td>\n",
       "      <td>1.025}</td>\n",
       "      <td>NaN</td>\n",
       "      <td>NaN</td>\n",
       "      <td>NaN</td>\n",
       "      <td>NaN</td>\n",
       "      <td>NaN</td>\n",
       "      <td>NaN</td>\n",
       "      <td>NaN</td>\n",
       "      <td>...</td>\n",
       "      <td>0</td>\n",
       "      <td>0</td>\n",
       "      <td>0</td>\n",
       "      <td>0</td>\n",
       "      <td>0</td>\n",
       "      <td>0</td>\n",
       "      <td>0</td>\n",
       "      <td>0</td>\n",
       "      <td>0</td>\n",
       "      <td>0</td>\n",
       "    </tr>\n",
       "    <tr>\n",
       "      <th>4</th>\n",
       "      <td>@attribute 'al' {0</td>\n",
       "      <td>1</td>\n",
       "      <td>4</td>\n",
       "      <td>NaN</td>\n",
       "      <td>NaN</td>\n",
       "      <td>NaN</td>\n",
       "      <td>NaN</td>\n",
       "      <td>NaN</td>\n",
       "      <td>NaN</td>\n",
       "      <td>NaN</td>\n",
       "      <td>...</td>\n",
       "      <td>0</td>\n",
       "      <td>0</td>\n",
       "      <td>0</td>\n",
       "      <td>0</td>\n",
       "      <td>0</td>\n",
       "      <td>0</td>\n",
       "      <td>0</td>\n",
       "      <td>0</td>\n",
       "      <td>0</td>\n",
       "      <td>0</td>\n",
       "    </tr>\n",
       "    <tr>\n",
       "      <th>...</th>\n",
       "      <td>...</td>\n",
       "      <td>...</td>\n",
       "      <td>...</td>\n",
       "      <td>...</td>\n",
       "      <td>...</td>\n",
       "      <td>...</td>\n",
       "      <td>...</td>\n",
       "      <td>...</td>\n",
       "      <td>...</td>\n",
       "      <td>...</td>\n",
       "      <td>...</td>\n",
       "      <td>...</td>\n",
       "      <td>...</td>\n",
       "      <td>...</td>\n",
       "      <td>...</td>\n",
       "      <td>...</td>\n",
       "      <td>...</td>\n",
       "      <td>...</td>\n",
       "      <td>...</td>\n",
       "      <td>...</td>\n",
       "      <td>...</td>\n",
       "    </tr>\n",
       "    <tr>\n",
       "      <th>422</th>\n",
       "      <td>55</td>\n",
       "      <td>80</td>\n",
       "      <td>0</td>\n",
       "      <td>140</td>\n",
       "      <td>49</td>\n",
       "      <td>0.5</td>\n",
       "      <td>150</td>\n",
       "      <td>4.9</td>\n",
       "      <td>15.7</td>\n",
       "      <td>47</td>\n",
       "      <td>...</td>\n",
       "      <td>1</td>\n",
       "      <td>0</td>\n",
       "      <td>0</td>\n",
       "      <td>0</td>\n",
       "      <td>0</td>\n",
       "      <td>1</td>\n",
       "      <td>0</td>\n",
       "      <td>0</td>\n",
       "      <td>1</td>\n",
       "      <td>0</td>\n",
       "    </tr>\n",
       "    <tr>\n",
       "      <th>423</th>\n",
       "      <td>42</td>\n",
       "      <td>70</td>\n",
       "      <td>0</td>\n",
       "      <td>75</td>\n",
       "      <td>31</td>\n",
       "      <td>1.2</td>\n",
       "      <td>141</td>\n",
       "      <td>3.5</td>\n",
       "      <td>16.5</td>\n",
       "      <td>54</td>\n",
       "      <td>...</td>\n",
       "      <td>1</td>\n",
       "      <td>0</td>\n",
       "      <td>0</td>\n",
       "      <td>0</td>\n",
       "      <td>0</td>\n",
       "      <td>1</td>\n",
       "      <td>0</td>\n",
       "      <td>0</td>\n",
       "      <td>1</td>\n",
       "      <td>0</td>\n",
       "    </tr>\n",
       "    <tr>\n",
       "      <th>424</th>\n",
       "      <td>12</td>\n",
       "      <td>80</td>\n",
       "      <td>0</td>\n",
       "      <td>100</td>\n",
       "      <td>26</td>\n",
       "      <td>0.6</td>\n",
       "      <td>137</td>\n",
       "      <td>4.4</td>\n",
       "      <td>15.8</td>\n",
       "      <td>49</td>\n",
       "      <td>...</td>\n",
       "      <td>1</td>\n",
       "      <td>0</td>\n",
       "      <td>0</td>\n",
       "      <td>0</td>\n",
       "      <td>0</td>\n",
       "      <td>1</td>\n",
       "      <td>0</td>\n",
       "      <td>0</td>\n",
       "      <td>1</td>\n",
       "      <td>0</td>\n",
       "    </tr>\n",
       "    <tr>\n",
       "      <th>425</th>\n",
       "      <td>17</td>\n",
       "      <td>60</td>\n",
       "      <td>0</td>\n",
       "      <td>114</td>\n",
       "      <td>50</td>\n",
       "      <td>1.0</td>\n",
       "      <td>135</td>\n",
       "      <td>4.9</td>\n",
       "      <td>14.2</td>\n",
       "      <td>51</td>\n",
       "      <td>...</td>\n",
       "      <td>1</td>\n",
       "      <td>0</td>\n",
       "      <td>0</td>\n",
       "      <td>0</td>\n",
       "      <td>0</td>\n",
       "      <td>1</td>\n",
       "      <td>0</td>\n",
       "      <td>0</td>\n",
       "      <td>1</td>\n",
       "      <td>0</td>\n",
       "    </tr>\n",
       "    <tr>\n",
       "      <th>426</th>\n",
       "      <td>58</td>\n",
       "      <td>80</td>\n",
       "      <td>0</td>\n",
       "      <td>131</td>\n",
       "      <td>18</td>\n",
       "      <td>1.1</td>\n",
       "      <td>141</td>\n",
       "      <td>3.5</td>\n",
       "      <td>15.8</td>\n",
       "      <td>53</td>\n",
       "      <td>...</td>\n",
       "      <td>1</td>\n",
       "      <td>0</td>\n",
       "      <td>0</td>\n",
       "      <td>0</td>\n",
       "      <td>0</td>\n",
       "      <td>1</td>\n",
       "      <td>0</td>\n",
       "      <td>0</td>\n",
       "      <td>1</td>\n",
       "      <td>0</td>\n",
       "    </tr>\n",
       "  </tbody>\n",
       "</table>\n",
       "<p>427 rows × 65 columns</p>\n",
       "</div>"
      ],
      "text/plain": [
       "                                  age     bp      su  bgr   bu   sc  sod  pot  \\\n",
       "0    @relation Chronic_Kidney_Disease    NaN     NaN  NaN  NaN  NaN  NaN  NaN   \n",
       "1            @attribute 'age' numeric    NaN     NaN  NaN  NaN  NaN  NaN  NaN   \n",
       "2            @attribute 'bp'  numeric    NaN     NaN  NaN  NaN  NaN  NaN  NaN   \n",
       "3              @attribute 'sg' {1.005  1.010  1.025}  NaN  NaN  NaN  NaN  NaN   \n",
       "4                  @attribute 'al' {0      1       4  NaN  NaN  NaN  NaN  NaN   \n",
       "..                                ...    ...     ...  ...  ...  ...  ...  ...   \n",
       "422                                55     80       0  140   49  0.5  150  4.9   \n",
       "423                                42     70       0   75   31  1.2  141  3.5   \n",
       "424                                12     80       0  100   26  0.6  137  4.4   \n",
       "425                                17     60       0  114   50  1.0  135  4.9   \n",
       "426                                58     80       0  131   18  1.1  141  3.5   \n",
       "\n",
       "     hemo  pcv  ... appet_good appet_no appet_poor  pe_?  pe_good  pe_no  \\\n",
       "0     NaN  NaN  ...          0        0          0     0        0      0   \n",
       "1     NaN  NaN  ...          0        0          0     0        0      0   \n",
       "2     NaN  NaN  ...          0        0          0     0        0      0   \n",
       "3     NaN  NaN  ...          0        0          0     0        0      0   \n",
       "4     NaN  NaN  ...          0        0          0     0        0      0   \n",
       "..    ...  ...  ...        ...      ...        ...   ...      ...    ...   \n",
       "422  15.7   47  ...          1        0          0     0        0      1   \n",
       "423  16.5   54  ...          1        0          0     0        0      1   \n",
       "424  15.8   49  ...          1        0          0     0        0      1   \n",
       "425  14.2   51  ...          1        0          0     0        0      1   \n",
       "426  15.8   53  ...          1        0          0     0        0      1   \n",
       "\n",
       "     pe_yes  ane_?  ane_no  ane_yes  \n",
       "0         0      0       0        0  \n",
       "1         0      0       0        0  \n",
       "2         0      0       0        0  \n",
       "3         0      0       0        0  \n",
       "4         0      0       0        0  \n",
       "..      ...    ...     ...      ...  \n",
       "422       0      0       1        0  \n",
       "423       0      0       1        0  \n",
       "424       0      0       1        0  \n",
       "425       0      0       1        0  \n",
       "426       0      0       1        0  \n",
       "\n",
       "[427 rows x 65 columns]"
      ]
     },
     "execution_count": 36,
     "metadata": {},
     "output_type": "execute_result"
    }
   ],
   "source": [
    "# # convert categorical features into dummy variable\n",
    "features = pd.get_dummies(kidney_disease, columns=categorical_features)\n",
    "features"
   ]
  },
  {
   "cell_type": "code",
   "execution_count": 37,
   "metadata": {},
   "outputs": [
    {
     "data": {
      "text/plain": [
       "0.96875"
      ]
     },
     "execution_count": 37,
     "metadata": {},
     "output_type": "execute_result"
    }
   ],
   "source": [
    "#refitting the model\n",
    "np.random.seed(42)\n",
    "X_train, X_test, y_train, y_test = train_test_split(transformed_X, y, test_size=0.2, shuffle=True)\n",
    "clf.fit(X_train, y_train)\n",
    "clf.score(X_test, y_test)"
   ]
  },
  {
   "cell_type": "markdown",
   "metadata": {},
   "source": [
    "The accuracy is 96.88%. This is equivalent to what we obtained using the PCA analysis method which used a combination of both imputation as well as dropping cells with nominal values."
   ]
  },
  {
   "cell_type": "markdown",
   "metadata": {},
   "source": [
    "## Visualize the data\n"
   ]
  },
  {
   "cell_type": "code",
   "execution_count": 38,
   "metadata": {},
   "outputs": [
    {
     "data": {
      "image/png": "[encoded data removed]",
      "text/plain": [
       "<Figure size 432x288 with 1 Axes>"
      ]
     },
     "metadata": {
      "needs_background": "light"
     },
     "output_type": "display_data"
    }
   ],
   "source": [
    "import matplotlib.pyplot as plt\n",
    "from sklearn.decomposition import PCA\n",
    "\n",
    "pca = PCA(n_components=2)\n",
    "pca.fit(normX)\n",
    "T = pca.transform(normX) # transformed data\n",
    "# change 'T' to Pandas-DataFrame to plot using Pandas-plots\n",
    "T = pd.DataFrame(T)\n",
    "# plot the data\n",
    "T.columns = ['PCA component 1', 'PCA component 2']\n",
    "T.plot.scatter(x='PCA component 1', y='PCA component 2', marker='o',\n",
    "        alpha=0.7, # opacity\n",
    "        color=label_color,\n",
    "        title=\"Chronic kidney disease dataset\" )\n",
    "plt.show()"
   ]
  },
  {
   "cell_type": "markdown",
   "metadata": {},
   "source": [
    "## 5. improve the model"
   ]
  },
  {
   "cell_type": "markdown",
   "metadata": {},
   "source": [
    "We are going to use feature scaling to improve the data. In other words, making sure all of your numerical data is on the same scale. There are two ways to do this:\n",
    "1. Normalization(min-max scaling)- rescales all the numerical values to between 0 and 1, with the lowest value being close to 0 and the highest previous value being close to 1. \n",
    "2. Standardization - This subtracts the mean value from all of the features (so the resulting features have 0 mean). It then scales the features to unit variance (by dividing the feature by the standard deviation)."
   ]
  },
  {
   "cell_type": "markdown",
   "metadata": {},
   "source": [
    "## Normalize the data\n",
    "The high variance observed in the data merits the use of normalization. This will involve setting the mean=0 and variance=1"
   ]
  },
  {
   "cell_type": "code",
   "execution_count": 39,
   "metadata": {},
   "outputs": [
    {
     "data": {
      "image/png": "[encoded data removed]",
      "text/plain": [
       "<Figure size 432x288 with 1 Axes>"
      ]
     },
     "metadata": {
      "needs_background": "light"
     },
     "output_type": "display_data"
    }
   ],
   "source": [
    "from sklearn import preprocessing\n",
    "# StandardScaler: mean=0, variance=1\n",
    "df = preprocessing.StandardScaler().fit_transform(normX)\n",
    "\n",
    "#visualize data after normalization\n",
    "pca = PCA(n_components=2)\n",
    "pca.fit(df)\n",
    "T = pca.transform(df) # transformed data\n",
    "# change 'T' to Pandas-DataFrame to plot using Pandas-plots\n",
    "T = pd.DataFrame(T)\n",
    "# plot the data\n",
    "T.columns = ['PCA component 1', 'PCA component 2']\n",
    "T.plot.scatter(x='PCA component 1', y='PCA component 2', marker='o',\n",
    "        alpha=0.7, # opacity\n",
    "        color=label_color,\n",
    "        title=\"Normalized chronic kidney disease dataset\" )\n",
    "plt.show()"
   ]
  },
  {
   "cell_type": "code",
   "execution_count": 40,
   "metadata": {},
   "outputs": [],
   "source": [
    "# convert categorical features into dummy variable\n",
    "\n",
    "# df = pd.get_dummies(df, columns=categorical_)\n"
   ]
  },
  {
   "cell_type": "markdown",
   "metadata": {},
   "source": [
    "# Try different number of estimators"
   ]
  },
  {
   "cell_type": "code",
   "execution_count": 41,
   "metadata": {},
   "outputs": [
    {
     "name": "stderr",
     "output_type": "stream",
     "text": [
      "C:\\Users\\charl\\anaconda3\\lib\\importlib\\_bootstrap.py:219: RuntimeWarning: numpy.ufunc size changed, may indicate binary incompatibility. Expected 192 from C header, got 216 from PyObject\n",
      "  return f(*args, **kwds)\n"
     ]
    },
    {
     "name": "stdout",
     "output_type": "stream",
     "text": [
      "Trying the Decision Tree model with 10 estimators...\n",
      "Model accuracy on test set: 100.00%\n",
      "Trying the Decision Tree model with 20 estimators...\n",
      "Model accuracy on test set: 100.00%\n",
      "Trying the Decision Tree model with 30 estimators...\n",
      "Model accuracy on test set: 100.00%\n",
      "Trying the Decision Tree model with 40 estimators...\n",
      "Model accuracy on test set: 100.00%\n",
      "Trying the Decision Tree model with 50 estimators...\n",
      "Model accuracy on test set: 100.00%\n",
      "Trying the Decision Tree model with 60 estimators...\n",
      "Model accuracy on test set: 100.00%\n",
      "Trying the Decision Tree model with 70 estimators...\n",
      "Model accuracy on test set: 100.00%\n",
      "Trying the Decision Tree model with 80 estimators...\n",
      "Model accuracy on test set: 100.00%\n",
      "Trying the Decision Tree model with 90 estimators...\n",
      "Model accuracy on test set: 100.00%\n"
     ]
    }
   ],
   "source": [
    "from sklearn.ensemble import BaggingClassifier\n",
    "np.random.seed(42)\n",
    "for i in range(10, 100, 10):\n",
    "    print(f\"Trying the Decision Tree model with {i} estimators...\")\n",
    "    bag_clf = BaggingClassifier(tree.DecisionTreeClassifier(random_state=42), \n",
    "                            n_estimators=i,\n",
    "                            bootstrap=True, n_jobs=-1)\n",
    "    bag_clf.fit(X_train, y_train)\n",
    "    print(f\"Model accuracy on test set: {bag_clf.score(X_test, y_test) * 100:.2f}%\")\n",
    "    "
   ]
  },
  {
   "cell_type": "markdown",
   "metadata": {},
   "source": [
    "## 6. Save and load models"
   ]
  },
  {
   "cell_type": "code",
   "execution_count": 42,
   "metadata": {},
   "outputs": [
    {
     "name": "stderr",
     "output_type": "stream",
     "text": [
      "C:\\Users\\charl\\anaconda3\\lib\\site-packages\\ipykernel_launcher.py:3: ResourceWarning: unclosed file <_io.BufferedWriter name='chronic_kidney_decision_tree.pkl'>\n",
      "  This is separate from the ipykernel package so we can avoid doing imports until\n",
      "ResourceWarning: Enable tracemalloc to get the object allocation traceback\n"
     ]
    }
   ],
   "source": [
    "import pickle\n",
    "\n",
    "pickle.dump(clf, open(\"chronic_kidney_decision_tree.pkl\", \"wb\"))\n"
   ]
  },
  {
   "cell_type": "code",
   "execution_count": 43,
   "metadata": {},
   "outputs": [
    {
     "name": "stderr",
     "output_type": "stream",
     "text": [
      "C:\\Users\\charl\\anaconda3\\lib\\site-packages\\ipykernel_launcher.py:2: ResourceWarning: unclosed file <_io.BufferedReader name='chronic_kidney_decision_tree.pkl'>\n",
      "  \n",
      "ResourceWarning: Enable tracemalloc to get the object allocation traceback\n"
     ]
    }
   ],
   "source": [
    "#how to load the decision tree model\n",
    "Dec_tree_model = pickle.load(open(\"chronic_kidney_decision_tree.pkl\", \"rb\"))\n",
    "# Dec_tree_model.score(X_test, y_test)"
   ]
  },
  {
   "cell_type": "code",
   "execution_count": null,
   "metadata": {},
   "outputs": [],
   "source": []
  }
 ],
 "metadata": {
  "kernelspec": {
   "display_name": "Python 3",
   "language": "python",
   "name": "python3"
  },
  "language_info": {
   "codemirror_mode": {
    "name": "ipython",
    "version": 3
   },
   "file_extension": ".py",
   "mimetype": "text/x-python",
   "name": "python",
   "nbconvert_exporter": "python",
   "pygments_lexer": "ipython3",
   "version": "3.7.6"
  }
 },
 "nbformat": 4,
 "nbformat_minor": 4
}
